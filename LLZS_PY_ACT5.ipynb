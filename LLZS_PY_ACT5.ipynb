{
  "nbformat": 4,
  "nbformat_minor": 0,
  "metadata": {
    "colab": {
      "provenance": [],
      "authorship_tag": "ABX9TyMsOFxvnEhY2zLg2n7Njk7F",
      "include_colab_link": true
    },
    "kernelspec": {
      "name": "python3",
      "display_name": "Python 3"
    },
    "language_info": {
      "name": "python"
    }
  },
  "cells": [
    {
      "cell_type": "markdown",
      "metadata": {
        "id": "view-in-github",
        "colab_type": "text"
      },
      "source": [
        "<a href=\"https://colab.research.google.com/github/luisa988/python5/blob/main/LLZS_PY_ACT5.ipynb\" target=\"_parent\"><img src=\"https://colab.research.google.com/assets/colab-badge.svg\" alt=\"Open In Colab\"/></a>"
      ]
    },
    {
      "cell_type": "markdown",
      "source": [
        "Nombre: Luisa Zerega.\n",
        "\n",
        "Materia: Python.\n",
        "\n",
        "Actividad 5 try random.\n",
        "\n",
        "Matricula: 356491\n",
        "\n",
        "Descripcion: Programa en Python que genere 40 números aleatorios entre el 0 y 200, desplegar los números y la leyenda de cada número si es par o impar , la cantidad de los números pares e impares así como la suma de los números pares o impares."
      ],
      "metadata": {
        "id": "4Re3tSeBHU0V"
      }
    },
    {
      "cell_type": "code",
      "source": [
        "import random\n",
        "\n",
        "numeros = []\n",
        "pares = []\n",
        "impares = []\n",
        "\n",
        "for _ in range(40):\n",
        "    try:\n",
        "        numero = random.randint(0, 200)\n",
        "        numeros.append(numero)\n",
        "        if numero % 2 == 0:\n",
        "            pares.append(numero)\n",
        "        else:\n",
        "            impares.append(numero)\n",
        "    except ValueError:\n",
        "        pass\n",
        "\n",
        "print(\"Números generados:\")\n",
        "print(numeros)\n",
        "print()\n",
        "\n",
        "print(\"Leyenda de cada número:\")\n",
        "for numero in numeros:\n",
        "    if numero in pares:\n",
        "        print(f\"{numero}: par\")\n",
        "    else:\n",
        "        print(f\"{numero}: impar\")\n",
        "print()\n",
        "\n",
        "print(\"Cantidad de números pares:\", len(pares))\n",
        "print(\"Cantidad de números impares:\", len(impares))\n",
        "print()\n",
        "\n",
        "suma_pares = sum(pares)\n",
        "suma_impares = sum(impares)\n",
        "print(\"Suma de los números pares:\", suma_pares)\n",
        "print(\"Suma de los números impares:\", suma_impares)\n"
      ],
      "metadata": {
        "colab": {
          "base_uri": "https://localhost:8080/"
        },
        "id": "wgbMwl-ZQGON",
        "outputId": "ddb25196-1170-4da8-84b6-f6330a91ba7f"
      },
      "execution_count": 3,
      "outputs": [
        {
          "output_type": "stream",
          "name": "stdout",
          "text": [
            "Números generados:\n",
            "[177, 101, 95, 133, 57, 16, 56, 35, 103, 73, 18, 11, 60, 76, 170, 0, 106, 188, 57, 44, 167, 22, 5, 67, 15, 176, 108, 181, 1, 62, 163, 168, 24, 14, 175, 39, 132, 100, 131, 196]\n",
            "\n",
            "Leyenda de cada número:\n",
            "177: impar\n",
            "101: impar\n",
            "95: impar\n",
            "133: impar\n",
            "57: impar\n",
            "16: par\n",
            "56: par\n",
            "35: impar\n",
            "103: impar\n",
            "73: impar\n",
            "18: par\n",
            "11: impar\n",
            "60: par\n",
            "76: par\n",
            "170: par\n",
            "0: par\n",
            "106: par\n",
            "188: par\n",
            "57: impar\n",
            "44: par\n",
            "167: impar\n",
            "22: par\n",
            "5: impar\n",
            "67: impar\n",
            "15: impar\n",
            "176: par\n",
            "108: par\n",
            "181: impar\n",
            "1: impar\n",
            "62: par\n",
            "163: impar\n",
            "168: par\n",
            "24: par\n",
            "14: par\n",
            "175: impar\n",
            "39: impar\n",
            "132: par\n",
            "100: par\n",
            "131: impar\n",
            "196: par\n",
            "\n",
            "Cantidad de números pares: 20\n",
            "Cantidad de números impares: 20\n",
            "\n",
            "Suma de los números pares: 1736\n",
            "Suma de los números impares: 1786\n"
          ]
        }
      ]
    },
    {
      "cell_type": "markdown",
      "source": [
        "Descripcion: Programa en Python que despliegue la tabla de multiplicar de un número dado (número entre el 1 y 20).\n",
        "\n",
        "Tabla del 5\n",
        "\n",
        "5 * 1 = 5\n",
        "\n",
        "5* 2 = 10\n",
        "\n",
        ".\n",
        "\n",
        ".\n",
        "\n",
        ".\n",
        "\n",
        "5*10=50\n",
        "\n"
      ],
      "metadata": {
        "id": "Edy1Ct0ZH3HR"
      }
    },
    {
      "cell_type": "code",
      "source": [
        "numero = 5\n",
        "\n",
        "print(\"Tabla del\", numero)\n",
        "for i in range(1, 11):\n",
        "    resultado = numero * i\n",
        "    print(f\"{numero} * {i} = {resultado}\")\n"
      ],
      "metadata": {
        "id": "QNQ0YhBZIDXA",
        "colab": {
          "base_uri": "https://localhost:8080/"
        },
        "outputId": "6b559f4c-a25b-4e5c-a68a-d2dd3365dad6"
      },
      "execution_count": 4,
      "outputs": [
        {
          "output_type": "stream",
          "name": "stdout",
          "text": [
            "Tabla del 5\n",
            "5 * 1 = 5\n",
            "5 * 2 = 10\n",
            "5 * 3 = 15\n",
            "5 * 4 = 20\n",
            "5 * 5 = 25\n",
            "5 * 6 = 30\n",
            "5 * 7 = 35\n",
            "5 * 8 = 40\n",
            "5 * 9 = 45\n",
            "5 * 10 = 50\n"
          ]
        }
      ]
    },
    {
      "cell_type": "markdown",
      "source": [
        "Descripcion: Programa en Python que lea una calificación, las calificación deberá estar en el rango de 0 a 100, si hay un error de captura, mostrar mensaje de error. con la calificación correcta mostrar msg de aprobado reprobado."
      ],
      "metadata": {
        "id": "mtXzEQDVICnb"
      }
    },
    {
      "cell_type": "code",
      "source": [
        "try:\n",
        "    calificacion = int(input(\"Ingrese la calificación: \"))\n",
        "    if calificacion < 0 or calificacion > 100:\n",
        "        print(\"Error: La calificación debe estar en el rango de 0 a 100\")\n",
        "    else:\n",
        "        if calificacion >= 60:\n",
        "            print(\"Aprobado ;) \")\n",
        "        else:\n",
        "            print(\"Reprobado :( )\")\n",
        "except ValueError:\n",
        "    print(\"Error: Ingrese un número válido como calificación\")"
      ],
      "metadata": {
        "colab": {
          "base_uri": "https://localhost:8080/"
        },
        "id": "EMKL6H2RQw80",
        "outputId": "301dcc4e-06a6-4674-cec8-b4697da8280f"
      },
      "execution_count": 6,
      "outputs": [
        {
          "output_type": "stream",
          "name": "stdout",
          "text": [
            "Ingrese la calificación: 100\n",
            "Aprobado ;) \n"
          ]
        }
      ]
    },
    {
      "cell_type": "markdown",
      "source": [
        "Descripcion: Programa en Python que lea n cantidad de números enteros dentro de un rango dado (> 0 ) , el programa deberá terminar cuando el usuario introduzca el número cero.\n",
        "\n",
        "desplegar la suma de números y la media.\n",
        "\n"
      ],
      "metadata": {
        "id": "yePOIWeeISWA"
      }
    },
    {
      "cell_type": "code",
      "source": [
        "numeros = []\n",
        "suma = 0\n",
        "\n",
        "while True:\n",
        "    try:\n",
        "        numero = int(input(\"Ingrese un número entero (0 para terminar): \"))\n",
        "        if numero == 0:\n",
        "            break\n",
        "        elif numero < 0:\n",
        "            print(\"Error: El número debe ser mayor que cero\")\n",
        "        else:\n",
        "            numeros.append(numero)\n",
        "            suma += numero\n",
        "    except ValueError:\n",
        "        print(\"Error: Ingrese un número entero válido\")\n",
        "\n",
        "cantidad_numeros = len(numeros)\n",
        "media = suma / cantidad_numeros if cantidad_numeros > 0 else 0\n",
        "\n",
        "print(\"Suma de los números:\", suma)\n",
        "print(\"Media de los números:\", media)\n"
      ],
      "metadata": {
        "id": "Kir_IgBjQr7R",
        "colab": {
          "base_uri": "https://localhost:8080/"
        },
        "outputId": "83a8135f-f7ff-4399-d1f3-51cd3c057f3a"
      },
      "execution_count": 7,
      "outputs": [
        {
          "output_type": "stream",
          "name": "stdout",
          "text": [
            "Ingrese un número entero (0 para terminar): 2\n",
            "Ingrese un número entero (0 para terminar): 3\n",
            "Ingrese un número entero (0 para terminar): 4\n",
            "Ingrese un número entero (0 para terminar): 0\n",
            "Suma de los números: 9\n",
            "Media de los números: 3.0\n"
          ]
        }
      ]
    },
    {
      "cell_type": "markdown",
      "source": [
        "Descripcion: Programa en Python que sirva para leer el promedio de una materia. donde el usuario tendrá un máximo de 3 oportunidades de cursar la materia, si el promedio es aprobado, felicitarlo y continuar el siguiente semestre, si promedio es reprobado deberá salir mensaje de repetir materia o es baja académica si ha reprobado 3 veces."
      ],
      "metadata": {
        "id": "XNDhZUfKQsaP"
      }
    },
    {
      "cell_type": "code",
      "source": [
        "intentos_maximos = 3\n",
        "calificaciones = []\n",
        "\n",
        "for intento in range(intentos_maximos):\n",
        "    try:\n",
        "        calificacion = float(input(\"Ingrese la calificación del intento {}: \".format(intento + 1)))\n",
        "        if calificacion < 0 or calificacion > 100:\n",
        "            print(\"Error: La calificación debe estar en el rango de 0 a 100\")\n",
        "        else:\n",
        "            calificaciones.append(calificacion)\n",
        "    except ValueError:\n",
        "        print(\"Error: Ingrese un número válido como calificación\")\n",
        "\n",
        "promedio = sum(calificaciones) / len(calificaciones) if len(calificaciones) > 0 else 0\n",
        "\n",
        "if promedio >= 60:\n",
        "    print(\"¡Felicidades! Ha aprobado la materia con un promedio de\", promedio)\n",
        "else:\n",
        "    if intentos_maximos == 1:\n",
        "        print(\"Debe repetir la materia, su promedio final es de\", promedio)\n",
        "    else:\n",
        "        print(\"Ha reprobado la materia. Le quedan\", intentos_maximos - 1, \"oportunidades.\")\n",
        "\n"
      ],
      "metadata": {
        "id": "Jc6mL55BQsu1",
        "colab": {
          "base_uri": "https://localhost:8080/"
        },
        "outputId": "8c8bb54e-3d85-4dd2-c9ce-7d71abb90e78"
      },
      "execution_count": 10,
      "outputs": [
        {
          "output_type": "stream",
          "name": "stdout",
          "text": [
            "Ingrese la calificación del intento 1: 60\n",
            "Ingrese la calificación del intento 2: 61\n",
            "Ingrese la calificación del intento 3: 60\n",
            "¡Felicidades! Ha aprobado la materia con un promedio de 60.333333333333336\n"
          ]
        }
      ]
    },
    {
      "cell_type": "markdown",
      "source": [
        "Parte 2.\n",
        "\n",
        "Descripcion: función que lea n cantidad de números hasta que el usuario lo desee, desplegar la suma de los números, media y valor de los números mayores y menores."
      ],
      "metadata": {
        "id": "m1XpK4P6Q0Ih"
      }
    },
    {
      "cell_type": "code",
      "source": [
        "import random\n",
        "\n",
        "numeros = []\n",
        "suma = 0\n",
        "mayor = float('-inf')\n",
        "menor = float('inf')\n",
        "\n",
        "while True:\n",
        "    try:\n",
        "        opcion = input(\"Desea ingresar un número? (s/n): \")\n",
        "        if opcion.lower() == 'n':\n",
        "            break\n",
        "        elif opcion.lower() != 's':\n",
        "            print(\"Error: Ingrese 's' para sí o 'n' para no\")\n",
        "            continue\n",
        "\n",
        "        numero = float(input(\"Ingrese un número: \"))\n",
        "        numeros.append(numero)\n",
        "        suma += numero\n",
        "\n",
        "        if numero > mayor:\n",
        "            mayor = numero\n",
        "        if numero < menor:\n",
        "            menor = numero\n",
        "\n",
        "    except ValueError:\n",
        "        print(\"Error: Ingrese un número válido\")\n",
        "\n",
        "cantidad_numeros = len(numeros)\n",
        "media = suma / cantidad_numeros if cantidad_numeros > 0 else 0\n",
        "\n",
        "print(\"Suma de los números:\", suma)\n",
        "print(\"Media de los números:\", media)\n",
        "print(\"Valor del número mayor:\", mayor)\n",
        "print(\"Valor del número menor:\", menor)\n"
      ],
      "metadata": {
        "id": "CVj1sx5kQ1VS",
        "colab": {
          "base_uri": "https://localhost:8080/"
        },
        "outputId": "00f17de9-87dc-4008-d859-30f6b5d3d53e"
      },
      "execution_count": 9,
      "outputs": [
        {
          "output_type": "stream",
          "name": "stdout",
          "text": [
            "Desea ingresar un número? (s/n): s\n",
            "Ingrese un número: 2\n",
            "Desea ingresar un número? (s/n): n\n",
            "Suma de los números: 2.0\n",
            "Media de los números: 2.0\n",
            "Valor del número mayor: 2.0\n",
            "Valor del número menor: 2.0\n"
          ]
        }
      ]
    },
    {
      "cell_type": "markdown",
      "source": [
        "Descripcion: función que genere 15 números impares entre 10 y 60 o máximo de 25 números. desplegar la media de los pares y media de impares."
      ],
      "metadata": {
        "id": "sWz_2sysRAx7"
      }
    },
    {
      "cell_type": "code",
      "source": [
        "import random\n",
        "\n",
        "numeros_impares = []\n",
        "numeros_pares = []\n",
        "\n",
        "for _ in range(25):\n",
        "    try:\n",
        "        numero = random.randint(10, 60)\n",
        "        if numero % 2 == 0:\n",
        "            numeros_pares.append(numero)\n",
        "        else:\n",
        "            numeros_impares.append(numero)\n",
        "\n",
        "        if len(numeros_impares) == 15:\n",
        "            break\n",
        "\n",
        "    except ValueError:\n",
        "        continue\n",
        "\n",
        "media_impares = sum(numeros_impares) / len(numeros_impares) if len(numeros_impares) > 0 else 0\n",
        "media_pares = sum(numeros_pares) / len(numeros_pares) if len(numeros_pares) > 0 else 0\n",
        "\n",
        "print(\"Media de los números impares:\", media_impares)\n",
        "print(\"Media de los números pares:\", media_pares)\n"
      ],
      "metadata": {
        "id": "zP4QEBewRBDQ",
        "colab": {
          "base_uri": "https://localhost:8080/"
        },
        "outputId": "a5a92350-0b62-4c70-f9a3-98b54437b345"
      },
      "execution_count": 11,
      "outputs": [
        {
          "output_type": "stream",
          "name": "stdout",
          "text": [
            "Media de los números impares: 29.363636363636363\n",
            "Media de los números pares: 29.142857142857142\n"
          ]
        }
      ]
    },
    {
      "cell_type": "markdown",
      "source": [
        "Descripcion:  función que sirva para leer y validar un número dentro de un rango dado por el usuario. repetir esta acción hasta que el usuario lo desee, desplegar cantidad de números y promedio de los números."
      ],
      "metadata": {
        "id": "1voKc6YqRKhW"
      }
    },
    {
      "cell_type": "code",
      "source": [
        "import random\n",
        "\n",
        "numeros = []\n",
        "suma = 0\n",
        "\n",
        "while True:\n",
        "    try:\n",
        "        opcion = input(\"Desea ingresar un número? (s/n): \")\n",
        "        if opcion.lower() == 'n':\n",
        "            break\n",
        "        elif opcion.lower() != 's':\n",
        "            print(\"Error: Ingrese 's' para sí o 'n' para no\")\n",
        "            continue\n",
        "\n",
        "        rango_min = int(input(\"Ingrese el valor mínimo del rango: \"))\n",
        "        rango_max = int(input(\"Ingrese el valor máximo del rango: \"))\n",
        "\n",
        "        numero = random.randint(rango_min, rango_max)\n",
        "        numeros.append(numero)\n",
        "        suma += numero\n",
        "\n",
        "    except ValueError:\n",
        "        print(\"Error: Ingrese un número válido\")\n",
        "\n",
        "cantidad_numeros = len(numeros)\n",
        "promedio = suma / cantidad_numeros if cantidad_numeros > 0 else 0\n",
        "\n",
        "print(\"Cantidad de números ingresados:\", cantidad_numeros)\n",
        "print(\"Promedio de los números:\", promedio)\n"
      ],
      "metadata": {
        "id": "ItDQ0dznRRcN",
        "colab": {
          "base_uri": "https://localhost:8080/"
        },
        "outputId": "9610a0c6-afa2-43c1-f63c-c7b711a31a69"
      },
      "execution_count": 12,
      "outputs": [
        {
          "output_type": "stream",
          "name": "stdout",
          "text": [
            "Desea ingresar un número? (s/n): s\n",
            "Ingrese el valor mínimo del rango: 5\n",
            "Ingrese el valor máximo del rango: 2\n",
            "Error: Ingrese un número válido\n",
            "Desea ingresar un número? (s/n): n\n",
            "Cantidad de números ingresados: 0\n",
            "Promedio de los números: 0\n"
          ]
        }
      ]
    },
    {
      "cell_type": "markdown",
      "source": [
        "Descripcion: función que reciba como parámetro los valores para el área de un triángulo y retorne su resultado\n",
        "\n"
      ],
      "metadata": {
        "id": "uldtpQBvRRvY"
      }
    },
    {
      "cell_type": "code",
      "source": [
        "def calcular_area_triangulo(a, b, c):\n",
        "    try:\n",
        "        if a + b > c and a + c > b and b + c > a:\n",
        "            s = (a + b + c) / 2\n",
        "            area = (s * (s - a) * (s - b) * (s - c)) ** 0.5\n",
        "            return area\n",
        "        else:\n",
        "            return \"Los lados no forman un triángulo válido\"\n",
        "    except ValueError:\n",
        "        return \"Ingrese valores numéricos para los lados del triángulo\"\n",
        "\n",
        "lado1 = float(input(\"Ingrese el valor del primer lado del triángulo: \"))\n",
        "lado2 = float(input(\"Ingrese el valor del segundo lado del triángulo: \"))\n",
        "lado3 = float(input(\"Ingrese el valor del tercer lado del triángulo: \"))\n",
        "\n",
        "area = calcular_area_triangulo(lado1, lado2, lado3)\n",
        "print(\"El área del triángulo es:\", area)\n"
      ],
      "metadata": {
        "id": "9WIVZ5HCRSS2",
        "colab": {
          "base_uri": "https://localhost:8080/"
        },
        "outputId": "8bb2f0cb-3c27-4629-e6ff-b44746f0b474"
      },
      "execution_count": 13,
      "outputs": [
        {
          "output_type": "stream",
          "name": "stdout",
          "text": [
            "Ingrese el valor del primer lado del triángulo: 30\n",
            "Ingrese el valor del segundo lado del triángulo: 40\n",
            "Ingrese el valor del tercer lado del triángulo: 20\n",
            "El área del triángulo es: 290.4737509655563\n"
          ]
        }
      ]
    },
    {
      "cell_type": "markdown",
      "source": [
        "Descripcion: función que sirva para validar un número dentro de un rango dado"
      ],
      "metadata": {
        "id": "kj0GRTqtRbEe"
      }
    },
    {
      "cell_type": "code",
      "source": [
        "import random\n",
        "\n",
        "def validar_numero_en_rango(numero, rango_min, rango_max):\n",
        "    try:\n",
        "        numero = int(numero)\n",
        "        if rango_min <= numero <= rango_max:\n",
        "            return True\n",
        "        else:\n",
        "            return False\n",
        "    except ValueError:\n",
        "        return False\n",
        "\n",
        "rango_min = int(input(\"Ingrese el valor mínimo del rango: \"))\n",
        "rango_max = int(input(\"Ingrese el valor máximo del rango: \"))\n",
        "\n",
        "while True:\n",
        "    numero = input(\"Ingrese un número: \")\n",
        "    if validar_numero_en_rango(numero, rango_min, rango_max):\n",
        "        print(\"El número está dentro del rango.\")\n",
        "    else:\n",
        "        print(\"El número está fuera del rango.\")\n",
        "\n",
        "    opcion = input(\"Desea ingresar otro número? (s/n): \")\n",
        "    if opcion.lower() == 'n':\n",
        "        break\n"
      ],
      "metadata": {
        "id": "nuWIhP_7Rr9O",
        "colab": {
          "base_uri": "https://localhost:8080/"
        },
        "outputId": "7d3555ab-1b80-46f4-bc81-348c1a605521"
      },
      "execution_count": 16,
      "outputs": [
        {
          "name": "stdout",
          "output_type": "stream",
          "text": [
            "Ingrese el valor mínimo del rango: 1\n",
            "Ingrese el valor máximo del rango: 5\n",
            "Ingrese un número: 4\n",
            "El número está dentro del rango.\n",
            "Desea ingresar otro número? (s/n): n\n"
          ]
        }
      ]
    }
  ]
}